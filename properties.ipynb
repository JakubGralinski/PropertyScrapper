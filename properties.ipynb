{
 "cells": [
  {
   "metadata": {
    "ExecuteTime": {
     "end_time": "2025-02-11T10:02:57.314252Z",
     "start_time": "2025-02-11T10:02:57.296047Z"
    }
   },
   "cell_type": "code",
   "source": [
    "import os\n",
    "import tarfile\n",
    "from six.moves import urllib"
   ],
   "id": "b0d6b40234fd0f1e",
   "outputs": [],
   "execution_count": 15
  },
  {
   "metadata": {
    "ExecuteTime": {
     "end_time": "2025-02-11T10:02:57.321775Z",
     "start_time": "2025-02-11T10:02:57.316664Z"
    }
   },
   "cell_type": "code",
   "source": [
    "PROJECT_ROOT = os.getcwd() \n",
    "HOUSING_PATH = os.path.join(PROJECT_ROOT, \"data\", \"housing\")\n",
    "HOUSING_CSV = os.path.join(PROJECT_ROOT, \"housing.csv\")"
   ],
   "id": "9a22ba6f0605b46d",
   "outputs": [],
   "execution_count": 16
  },
  {
   "metadata": {
    "ExecuteTime": {
     "end_time": "2025-02-11T10:02:57.326521Z",
     "start_time": "2025-02-11T10:02:57.323526Z"
    }
   },
   "cell_type": "code",
   "source": [
    "import pandas as pd\n",
    "\n",
    "def load_housing_data(housing_path=HOUSING_PATH):\n",
    "    csv_path = os.path.join(housing_path, \"housing.csv\")\n",
    "    return pd.read_csv(csv_path)"
   ],
   "id": "174c8d17fc2ba1f6",
   "outputs": [],
   "execution_count": 17
  },
  {
   "metadata": {
    "ExecuteTime": {
     "end_time": "2025-02-11T10:02:57.450746Z",
     "start_time": "2025-02-11T10:02:57.327362Z"
    }
   },
   "cell_type": "code",
   "source": [
    "housing = load_housing_data()\n",
    "housing.head()"
   ],
   "id": "edced26e9b499a05",
   "outputs": [
    {
     "data": {
      "text/plain": [
       "                                        Location       Price  Price per m2  \\\n",
       "0                         Warszawa, Praga-Północ  396 000 zł  13 655 zł/m²   \n",
       "1               Warszawa, Bemowo, ul. Secemińska  695 000 zł  11 564 zł/m²   \n",
       "2                              Warszawa, Wilanów  828 000 zł  15 055 zł/m²   \n",
       "3                            Warszawa, Białołęka  730 000 zł  13 225 zł/m²   \n",
       "4  Warszawa, Śródmieście, ul. Marszałkowska 111a  750 000 zł  19 330 zł/m²   \n",
       "\n",
       "   Size M2     Rooms  \n",
       "0    29 m²  2 pokoje  \n",
       "1  60.1 m²  3 pokoje  \n",
       "2    55 m²  2 pokoje  \n",
       "3  55.2 m²  3 pokoje  \n",
       "4  38.8 m²  2 pokoje  "
      ],
      "text/html": [
       "<div>\n",
       "<style scoped>\n",
       "    .dataframe tbody tr th:only-of-type {\n",
       "        vertical-align: middle;\n",
       "    }\n",
       "\n",
       "    .dataframe tbody tr th {\n",
       "        vertical-align: top;\n",
       "    }\n",
       "\n",
       "    .dataframe thead th {\n",
       "        text-align: right;\n",
       "    }\n",
       "</style>\n",
       "<table border=\"1\" class=\"dataframe\">\n",
       "  <thead>\n",
       "    <tr style=\"text-align: right;\">\n",
       "      <th></th>\n",
       "      <th>Location</th>\n",
       "      <th>Price</th>\n",
       "      <th>Price per m2</th>\n",
       "      <th>Size M2</th>\n",
       "      <th>Rooms</th>\n",
       "    </tr>\n",
       "  </thead>\n",
       "  <tbody>\n",
       "    <tr>\n",
       "      <th>0</th>\n",
       "      <td>Warszawa, Praga-Północ</td>\n",
       "      <td>396 000 zł</td>\n",
       "      <td>13 655 zł/m²</td>\n",
       "      <td>29 m²</td>\n",
       "      <td>2 pokoje</td>\n",
       "    </tr>\n",
       "    <tr>\n",
       "      <th>1</th>\n",
       "      <td>Warszawa, Bemowo, ul. Secemińska</td>\n",
       "      <td>695 000 zł</td>\n",
       "      <td>11 564 zł/m²</td>\n",
       "      <td>60.1 m²</td>\n",
       "      <td>3 pokoje</td>\n",
       "    </tr>\n",
       "    <tr>\n",
       "      <th>2</th>\n",
       "      <td>Warszawa, Wilanów</td>\n",
       "      <td>828 000 zł</td>\n",
       "      <td>15 055 zł/m²</td>\n",
       "      <td>55 m²</td>\n",
       "      <td>2 pokoje</td>\n",
       "    </tr>\n",
       "    <tr>\n",
       "      <th>3</th>\n",
       "      <td>Warszawa, Białołęka</td>\n",
       "      <td>730 000 zł</td>\n",
       "      <td>13 225 zł/m²</td>\n",
       "      <td>55.2 m²</td>\n",
       "      <td>3 pokoje</td>\n",
       "    </tr>\n",
       "    <tr>\n",
       "      <th>4</th>\n",
       "      <td>Warszawa, Śródmieście, ul. Marszałkowska 111a</td>\n",
       "      <td>750 000 zł</td>\n",
       "      <td>19 330 zł/m²</td>\n",
       "      <td>38.8 m²</td>\n",
       "      <td>2 pokoje</td>\n",
       "    </tr>\n",
       "  </tbody>\n",
       "</table>\n",
       "</div>"
      ]
     },
     "execution_count": 18,
     "metadata": {},
     "output_type": "execute_result"
    }
   ],
   "execution_count": 18
  },
  {
   "metadata": {
    "ExecuteTime": {
     "end_time": "2025-02-11T10:10:23.911780Z",
     "start_time": "2025-02-11T10:10:23.794811Z"
    }
   },
   "cell_type": "code",
   "source": "housing.info()",
   "id": "5532f8325e69e678",
   "outputs": [
    {
     "name": "stdout",
     "output_type": "stream",
     "text": [
      "<class 'pandas.core.frame.DataFrame'>\n",
      "RangeIndex: 11250 entries, 0 to 11249\n",
      "Data columns (total 5 columns):\n",
      " #   Column        Non-Null Count  Dtype \n",
      "---  ------        --------------  ----- \n",
      " 0   Location      11250 non-null  object\n",
      " 1   Price         11250 non-null  object\n",
      " 2   Price per m2  11250 non-null  object\n",
      " 3   Size M2       11250 non-null  object\n",
      " 4   Rooms         11250 non-null  object\n",
      "dtypes: object(5)\n",
      "memory usage: 439.6+ KB\n"
     ]
    }
   ],
   "execution_count": 20
  },
  {
   "metadata": {
    "ExecuteTime": {
     "end_time": "2025-02-11T10:12:15.864346Z",
     "start_time": "2025-02-11T10:12:15.830208Z"
    }
   },
   "cell_type": "code",
   "source": "housing['Location'].value_counts()",
   "id": "662d6b9c80d1bbaf",
   "outputs": [
    {
     "data": {
      "text/plain": [
       "Location\n",
       "Warszawa, Mokotów                                       301\n",
       "Warszawa, Śródmieście                                   253\n",
       "Warszawa, Wola                                          212\n",
       "Warszawa, Praga-Południe                                181\n",
       "Warszawa, Ursynów                                       165\n",
       "                                                       ... \n",
       "Warszawa, Śródmieście, Natolińska                         1\n",
       "Warszawa, Włochy, Potrzebna                               1\n",
       "Warszawa, Wola, Moczydło, Monte Cassino                   1\n",
       "Warszawa, Śródmieście, Nowe Miasto, ul. Świętojerska      1\n",
       "Warszawa, Śródmieście, Traugutta                          1\n",
       "Name: count, Length: 3906, dtype: int64"
      ]
     },
     "execution_count": 22,
     "metadata": {},
     "output_type": "execute_result"
    }
   ],
   "execution_count": 22
  },
  {
   "metadata": {
    "ExecuteTime": {
     "end_time": "2025-02-11T10:12:41.975843Z",
     "start_time": "2025-02-11T10:12:41.934437Z"
    }
   },
   "cell_type": "code",
   "source": "housing.describe()",
   "id": "69009e458483b969",
   "outputs": [
    {
     "data": {
      "text/plain": [
       "                 Location       Price  Price per m2 Size M2     Rooms\n",
       "count               11250       11250         11250   11250     11250\n",
       "unique               3906        1890          5783    2810        10\n",
       "top     Warszawa, Mokotów  599 000 zł  10 000 zł/m²   48 m²  2 pokoje\n",
       "freq                  301         178            67     211      4365"
      ],
      "text/html": [
       "<div>\n",
       "<style scoped>\n",
       "    .dataframe tbody tr th:only-of-type {\n",
       "        vertical-align: middle;\n",
       "    }\n",
       "\n",
       "    .dataframe tbody tr th {\n",
       "        vertical-align: top;\n",
       "    }\n",
       "\n",
       "    .dataframe thead th {\n",
       "        text-align: right;\n",
       "    }\n",
       "</style>\n",
       "<table border=\"1\" class=\"dataframe\">\n",
       "  <thead>\n",
       "    <tr style=\"text-align: right;\">\n",
       "      <th></th>\n",
       "      <th>Location</th>\n",
       "      <th>Price</th>\n",
       "      <th>Price per m2</th>\n",
       "      <th>Size M2</th>\n",
       "      <th>Rooms</th>\n",
       "    </tr>\n",
       "  </thead>\n",
       "  <tbody>\n",
       "    <tr>\n",
       "      <th>count</th>\n",
       "      <td>11250</td>\n",
       "      <td>11250</td>\n",
       "      <td>11250</td>\n",
       "      <td>11250</td>\n",
       "      <td>11250</td>\n",
       "    </tr>\n",
       "    <tr>\n",
       "      <th>unique</th>\n",
       "      <td>3906</td>\n",
       "      <td>1890</td>\n",
       "      <td>5783</td>\n",
       "      <td>2810</td>\n",
       "      <td>10</td>\n",
       "    </tr>\n",
       "    <tr>\n",
       "      <th>top</th>\n",
       "      <td>Warszawa, Mokotów</td>\n",
       "      <td>599 000 zł</td>\n",
       "      <td>10 000 zł/m²</td>\n",
       "      <td>48 m²</td>\n",
       "      <td>2 pokoje</td>\n",
       "    </tr>\n",
       "    <tr>\n",
       "      <th>freq</th>\n",
       "      <td>301</td>\n",
       "      <td>178</td>\n",
       "      <td>67</td>\n",
       "      <td>211</td>\n",
       "      <td>4365</td>\n",
       "    </tr>\n",
       "  </tbody>\n",
       "</table>\n",
       "</div>"
      ]
     },
     "execution_count": 23,
     "metadata": {},
     "output_type": "execute_result"
    }
   ],
   "execution_count": 23
  },
  {
   "metadata": {},
   "cell_type": "code",
   "outputs": [],
   "execution_count": null,
   "source": "",
   "id": "70b94c1674f5582f"
  }
 ],
 "metadata": {
  "kernelspec": {
   "display_name": "Python 3",
   "language": "python",
   "name": "python3"
  },
  "language_info": {
   "codemirror_mode": {
    "name": "ipython",
    "version": 2
   },
   "file_extension": ".py",
   "mimetype": "text/x-python",
   "name": "python",
   "nbconvert_exporter": "python",
   "pygments_lexer": "ipython2",
   "version": "2.7.6"
  }
 },
 "nbformat": 4,
 "nbformat_minor": 5
}
